{
 "cells": [
  {
   "cell_type": "code",
   "execution_count": null,
   "metadata": {
    "collapsed": true
   },
   "outputs": [],
   "source": [
    "import pandas as pd\n",
    "import numpy as np\n",
    "from scipy.stats import ttest_ind"
   ]
  },
  {
   "cell_type": "markdown",
   "metadata": {},
   "source": [
    "# Assignment 4 - Hypothesis Testing\n",
    "This assignment requires more individual learning than previous assignments - you are encouraged to check out the [pandas documentation](http://pandas.pydata.org/pandas-docs/stable/) to find functions or methods you might not have used yet, or ask questions on [Stack Overflow](http://stackoverflow.com/) and tag them as pandas and python related. And of course, the discussion forums are open for interaction with your peers and the course staff.\n",
    "\n",
    "Definitions:\n",
    "* A _quarter_ is a specific three month period, Q1 is January through March, Q2 is April through June, Q3 is July through September, Q4 is October through December.\n",
    "* A _recession_ is defined as starting with two consecutive quarters of GDP decline, and ending with two consecutive quarters of GDP growth.\n",
    "* A _recession bottom_ is the quarter within a recession which had the lowest GDP.\n",
    "* A _university town_ is a city which has a high percentage of university students compared to the total population of the city.\n",
    "\n",
    "**Hypothesis**: University towns have their mean housing prices less effected by recessions. Run a t-test to compare the ratio of the mean price of houses in university towns the quarter before the recession starts compared to the recession bottom. (`price_ratio=quarter_before_recession/recession_bottom`)\n",
    "\n",
    "The following data files are available for this assignment:\n",
    "* From the [Zillow research data site](http://www.zillow.com/research/data/) there is housing data for the United States. In particular the datafile for [all homes at a city level](http://files.zillowstatic.com/research/public/City/City_Zhvi_AllHomes.csv), ```City_Zhvi_AllHomes.csv```, has median home sale prices at a fine grained level.\n",
    "* From the Wikipedia page on college towns is a list of [university towns in the United States](https://en.wikipedia.org/wiki/List_of_college_towns#College_towns_in_the_United_States) which has been copy and pasted into the file ```university_towns.txt```.\n",
    "* From Bureau of Economic Analysis, US Department of Commerce, the [GDP over time](http://www.bea.gov/national/index.htm#gdp) of the United States in current dollars (use the chained value in 2009 dollars), in quarterly intervals, in the file ```gdplev.xls```. For this assignment, only look at GDP data from the first quarter of 2000 onward.\n",
    "\n",
    "Each function in this assignment below is worth 10%, with the exception of ```run_ttest()```, which is worth 50%."
   ]
  },
  {
   "cell_type": "code",
   "execution_count": 1,
   "metadata": {
    "collapsed": true
   },
   "outputs": [],
   "source": [
    "# Use this dictionary to map state names to two letter acronyms\n",
    "states = {'OH': 'Ohio', 'KY': 'Kentucky', 'AS': 'American Samoa', 'NV': 'Nevada', 'WY': 'Wyoming', 'NA': 'National', 'AL': 'Alabama', 'MD': 'Maryland', 'AK': 'Alaska', 'UT': 'Utah', 'OR': 'Oregon', 'MT': 'Montana', 'IL': 'Illinois', 'TN': 'Tennessee', 'DC': 'District of Columbia', 'VT': 'Vermont', 'ID': 'Idaho', 'AR': 'Arkansas', 'ME': 'Maine', 'WA': 'Washington', 'HI': 'Hawaii', 'WI': 'Wisconsin', 'MI': 'Michigan', 'IN': 'Indiana', 'NJ': 'New Jersey', 'AZ': 'Arizona', 'GU': 'Guam', 'MS': 'Mississippi', 'PR': 'Puerto Rico', 'NC': 'North Carolina', 'TX': 'Texas', 'SD': 'South Dakota', 'MP': 'Northern Mariana Islands', 'IA': 'Iowa', 'MO': 'Missouri', 'CT': 'Connecticut', 'WV': 'West Virginia', 'SC': 'South Carolina', 'LA': 'Louisiana', 'KS': 'Kansas', 'NY': 'New York', 'NE': 'Nebraska', 'OK': 'Oklahoma', 'FL': 'Florida', 'CA': 'California', 'CO': 'Colorado', 'PA': 'Pennsylvania', 'DE': 'Delaware', 'NM': 'New Mexico', 'RI': 'Rhode Island', 'MN': 'Minnesota', 'VI': 'Virgin Islands', 'NH': 'New Hampshire', 'MA': 'Massachusetts', 'GA': 'Georgia', 'ND': 'North Dakota', 'VA': 'Virginia'}"
   ]
  },
  {
   "cell_type": "code",
   "execution_count": null,
   "metadata": {
    "collapsed": true
   },
   "outputs": [],
   "source": [
    "def get_list_of_university_towns():\n",
    "    '''Returns a DataFrame of towns and the states they are in from the \n",
    "    university_towns.txt list. The format of the DataFrame should be:\n",
    "    DataFrame( [ [\"Michigan\", \"Ann Arbor\"], [\"Michigan\", \"Yipsilanti\"] ], \n",
    "    columns=[\"State\", \"RegionName\"]  )\n",
    "    \n",
    "    The following cleaning needs to be done:\n",
    "\n",
    "    1. For \"State\", removing characters from \"[\" to the end.\n",
    "    2. For \"RegionName\", when applicable, removing every character from \" (\" to the end.\n",
    "    3. Depending on how you read the data, you may need to remove newline character '\\n'. '''\n",
    "    df1 = pd.read_csv('university_towns.txt', delimiter='|', header=None)\n",
    "    df1.rename(columns={0: 'RegionName'}, inplace=True)\n",
    "    a = df1.loc[df1['RegionName'].str.endswith('[edit]')]\n",
    "    a['State'] = a['RegionName']\n",
    "    data1 = pd.merge(df1, a, left_on='RegionName', right_on='RegionName', how='outer')\n",
    "    data1.fillna(method='ffill', inplace=True)\n",
    "    data1.drop(data1.loc[data1['RegionName'] == data1['State']].index, inplace=True)\n",
    "    data1['State'] = data1['State'].str.replace(r'\\[.*', '')\n",
    "    data1['RegionName'] = data1['RegionName'].str.replace(r'\\s*\\(.*', '')\n",
    "    data1.reset_index(inplace=True)\n",
    "    data1.drop(['index'], axis=1, inplace=True)\n",
    "    data1['abc'] = data1['RegionName']\n",
    "    data1.drop('RegionName', axis=1, inplace=True)\n",
    "    data1.rename(columns={'abc': 'RegionName'}, inplace=True)\n",
    "    return data1\n",
    "get_list_of_university_towns()"
   ]
  },
  {
   "cell_type": "code",
   "execution_count": null,
   "metadata": {
    "collapsed": true
   },
   "outputs": [],
   "source": [
    "def get_recession_start():\n",
    "    '''Returns the year and quarter of the recession start time as a \n",
    "    string value in a format such as 2005q3'''\n",
    "    data3 = pd.read_excel('gdplev.xls', skiprows=5)\n",
    "    data3.rename(columns={'Unnamed: 4': 'Quarter', 'GDP in billions of chained 2009 dollars.1': 'GDP'}, inplace=True)\n",
    "    data3.drop([0, 1], inplace=True)\n",
    "    data3 = data3.loc[data3.loc[data3['Quarter'].str.startswith('2000')].index[0]:, ['Quarter', 'GDP']]\n",
    "    res = [[0, 0]]\n",
    "    for i in range(data3.shape[0] - 4):\n",
    "        if i > res[-1][-1]:\n",
    "            for j in range(i + 2, data3.shape[0] - 2):\n",
    "                if (data3.iloc[i, 1] > data3.iloc[i + 1, 1]) & (data3.iloc[i + 1, 1] > data3.iloc[i + 2, 1]) & (data3.iloc[j, 1] < data3.iloc[j + 1, 1]) & (data3.iloc[j + 1, 1] < data3.iloc[j + 2, 1]):\n",
    "                    res.append([i + 1, j + 2])\n",
    "                    break\n",
    "    start = data3.iloc[res[-1][0], 0]\n",
    "    data3.iloc[res[-1][-1], 0]\n",
    "    bottom = data3.set_index('Quarter').iloc[res[-1][0]:res[-1][-1]]['GDP'].argmin()\n",
    "    return start\n",
    "get_recession_start()"
   ]
  },
  {
   "cell_type": "code",
   "execution_count": null,
   "metadata": {
    "collapsed": true
   },
   "outputs": [],
   "source": [
    "def get_recession_end():\n",
    "    '''Returns the year and quarter of the recession end time as a \n",
    "    string value in a format such as 2005q3'''\n",
    "    data3 = pd.read_excel('gdplev.xls', skiprows=5)\n",
    "    data3.rename(columns={'Unnamed: 4': 'Quarter', 'GDP in billions of chained 2009 dollars.1': 'GDP'}, inplace=True)\n",
    "    data3.drop([0, 1], inplace=True)\n",
    "    data3 = data3.loc[data3.loc[data3['Quarter'].str.startswith('2000')].index[0]:, ['Quarter', 'GDP']]\n",
    "    res = [[0, 0]]\n",
    "    for i in range(data3.shape[0] - 4):\n",
    "        if i > res[-1][-1]:\n",
    "            for j in range(i + 2, data3.shape[0] - 2):\n",
    "                if (data3.iloc[i, 1] > data3.iloc[i + 1, 1]) & (data3.iloc[i + 1, 1] > data3.iloc[i + 2, 1]) & (data3.iloc[j, 1] < data3.iloc[j + 1, 1]) & (data3.iloc[j + 1, 1] < data3.iloc[j + 2, 1]):\n",
    "                    res.append([i + 1, j + 2])\n",
    "                    break\n",
    "    start = data3.iloc[res[-1][0], 0]\n",
    "    data3.iloc[res[-1][-1], 0]\n",
    "    bottom = data3.set_index('Quarter').iloc[res[-1][0]:res[-1][-1]]['GDP'].argmin()       \n",
    "    return data3.iloc[res[-1][-1], 0]\n",
    "get_recession_end()"
   ]
  },
  {
   "cell_type": "code",
   "execution_count": null,
   "metadata": {
    "collapsed": true
   },
   "outputs": [],
   "source": [
    "def get_recession_bottom():\n",
    "    '''Returns the year and quarter of the recession bottom time as a \n",
    "    string value in a format such as 2005q3'''\n",
    "    data3 = pd.read_excel('gdplev.xls', skiprows=5)\n",
    "    data3.rename(columns={'Unnamed: 4': 'Quarter', 'GDP in billions of chained 2009 dollars.1': 'GDP'}, inplace=True)\n",
    "    data3.drop([0, 1], inplace=True)\n",
    "    data3 = data3.loc[data3.loc[data3['Quarter'].str.startswith('2000')].index[0]:, ['Quarter', 'GDP']]\n",
    "    res = [[0, 0]]\n",
    "    for i in range(data3.shape[0] - 4):\n",
    "        if i > res[-1][-1]:\n",
    "            for j in range(i + 2, data3.shape[0] - 2):\n",
    "                if (data3.iloc[i, 1] > data3.iloc[i + 1, 1]) & (data3.iloc[i + 1, 1] > data3.iloc[i + 2, 1]) & (data3.iloc[j, 1] < data3.iloc[j + 1, 1]) & (data3.iloc[j + 1, 1] < data3.iloc[j + 2, 1]):\n",
    "                    res.append([i + 1, j + 2])\n",
    "                    break\n",
    "    start = data3.iloc[res[-1][0], 0]\n",
    "    data3.iloc[res[-1][-1], 0]\n",
    "    bottom = data3.set_index('Quarter').iloc[res[-1][0]:res[-1][-1]]['GDP'].argmin()    \n",
    "    return bottom\n",
    "get_recession_bottom()"
   ]
  },
  {
   "cell_type": "code",
   "execution_count": null,
   "metadata": {
    "collapsed": true
   },
   "outputs": [],
   "source": [
    "def convert_housing_data_to_quarters():\n",
    "    '''Converts the housing data to quarters and returns it as mean \n",
    "    values in a dataframe. This dataframe should be a dataframe with\n",
    "    columns for 2000q1 through 2016q3, and should have a multi-index\n",
    "    in the shape of [\"State\",\"RegionName\"].\n",
    "    \n",
    "    Note: Quarters are defined in the assignment description, they are\n",
    "    not arbitrary three month periods.\n",
    "    \n",
    "    The resulting dataframe should have 67 columns, and 10,730 rows.\n",
    "    '''\n",
    "    df = pd.DataFrame(pd.Series(states), columns=['StatesName'])\n",
    "    df.reset_index(inplace=True)\n",
    "    df.rename(columns={'index': 'State'}, inplace=True)\n",
    "    data2 = pd.read_csv('City_Zhvi_AllHomes.csv')\n",
    "    data2 = data2.replace(to_replace='NaN', value=np.NaN).convert_objects(convert_numeric=True)\n",
    "    for i in range(2000, 2016):\n",
    "        data2[str(i)+'q1'] = data2.loc[:, [str(i)+'-01', str(i)+'-02', str(i)+'-03']].mean(axis=1)\n",
    "        data2[str(i)+'q2'] = data2.loc[:, [str(i)+'-04', str(i)+'-05', str(i)+'-06']].mean(axis=1)\n",
    "        data2[str(i)+'q3'] = data2.loc[:, [str(i)+'-07', str(i)+'-08', str(i)+'-09']].mean(axis=1)\n",
    "        data2[str(i)+'q4'] = data2.loc[:, [str(i)+'-10', str(i)+'-11', str(i)+'-12']].mean(axis=1)\n",
    "    data2['2016q1'] = data2.loc[:, ['2016-01', '2016-02', '2016-03']].mean(axis=1)\n",
    "    data2['2016q2'] = data2.loc[:, ['2016-04', '2016-05', '2016-06']].mean(axis=1)\n",
    "    data2['2016q3'] = data2.loc[:, ['2016-07', '2016-08', '2016-09']].mean(axis=1)\n",
    "    data2.drop(data2.columns[6:251], axis=1, inplace=True)\n",
    "    data2.drop(['RegionID', 'Metro', 'CountyName', 'SizeRank'], axis=1, inplace=True)\n",
    "    data2 = pd.merge(df, data2, left_on='State', right_on='State', how='right')\n",
    "    data2.drop('State', axis=1, inplace=True)\n",
    "    data2.rename(columns={'StatesName': 'State'}, inplace=True)\n",
    "    data2.sort_values(['State', 'RegionName'], inplace=True)\n",
    "    data2.set_index(['State', 'RegionName'], inplace=True)    \n",
    "    return data2\n",
    "convert_housing_data_to_quarters()"
   ]
  },
  {
   "cell_type": "code",
   "execution_count": null,
   "metadata": {
    "collapsed": true
   },
   "outputs": [],
   "source": [
    "def run_ttest():\n",
    "    '''First creates new data showing the decline or growth of housing prices\n",
    "    between the recession start and the recession bottom. Then runs a ttest\n",
    "    comparing the university town values to the non-university towns values, \n",
    "    return whether the alternative hypothesis (that the two groups are the same)\n",
    "    is true or not as well as the p-value of the confidence. \n",
    "    \n",
    "    Return the tuple (different, p, better) where different=True if the t-test is\n",
    "    True at a p<0.01 (we reject the null hypothesis), or different=False if \n",
    "    otherwise (we cannot reject the null hypothesis). The variable p should\n",
    "    be equal to the exact p value returned from scipy.stats.ttest_ind(). The\n",
    "    value for better should be either \"university town\" or \"non-university town\"\n",
    "    depending on which has a lower mean price ratio (which is equivilent to a\n",
    "    reduced market loss).'''\n",
    "    data2 = convert_housing_data_to_quarters()\n",
    "    data1 = get_list_of_university_towns()\n",
    "    data3 = pd.read_excel('gdplev.xls', skiprows=5)\n",
    "    data3.rename(columns={'Unnamed: 4': 'Quarter', 'GDP in billions of chained 2009 dollars.1': 'GDP'}, inplace=True)\n",
    "    data3.drop([0, 1], inplace=True)\n",
    "    data3 = data3.loc[data3.loc[data3['Quarter'].str.startswith('2000')].index[0]:, ['Quarter', 'GDP']]\n",
    "    res = [[0, 0]]\n",
    "    for i in range(data3.shape[0] - 4):\n",
    "        if i > res[-1][-1]:\n",
    "            for j in range(i + 2, data3.shape[0] - 2):\n",
    "                if (data3.iloc[i, 1] > data3.iloc[i + 1, 1]) & (data3.iloc[i + 1, 1] > data3.iloc[i + 2, 1]) & (data3.iloc[j, 1] < data3.iloc[j + 1, 1]) & (data3.iloc[j + 1, 1] < data3.iloc[j + 2, 1]):\n",
    "                    res.append([i + 1, j + 2])\n",
    "                    break\n",
    "    start = data3.iloc[res[-1][0], 0]\n",
    "    data3.iloc[res[-1][-1], 0]\n",
    "    bottom = data3.set_index('Quarter').iloc[res[-1][0]:res[-1][-1]]['GDP'].argmin() \n",
    "    bstart = data2.columns[data2.columns.get_loc(start) - 1]\n",
    "    data2['Ratio'] = data2[bstart] / data2[bottom]\n",
    "    data2 = pd.DataFrame(data2.loc[:, 'Ratio'])\n",
    "    data1 = data1.set_index(['State', 'RegionName'])\n",
    "    total = pd.merge(data1, data2, left_index=True, right_index=True, how='right', indicator=True)\n",
    "    univ = (total.loc[total['_merge'] == 'both']).dropna()\n",
    "    non_univ = (total.loc[total['_merge'] == 'right_only']).dropna()\n",
    "    (s, p) = stats.ttest_ind(univ['Ratio'], non_univ['Ratio'])\n",
    "    if p < 0.01:\n",
    "        different = True\n",
    "    else:\n",
    "        different = False\n",
    "    if univ['Ratio'].mean() < non_univ['Ratio'].mean():\n",
    "        better = 'university town'\n",
    "    else:\n",
    "        better = 'non-university town'   \n",
    "    return (True, p, better)\n",
    "run_ttest()"
   ]
  },
  {
   "cell_type": "code",
   "execution_count": null,
   "metadata": {
    "collapsed": true
   },
   "outputs": [],
   "source": []
  }
 ],
 "metadata": {
  "kernelspec": {
   "display_name": "Python 3",
   "language": "python",
   "name": "python3"
  },
  "language_info": {
   "codemirror_mode": {
    "name": "ipython",
    "version": 3
   },
   "file_extension": ".py",
   "mimetype": "text/x-python",
   "name": "python",
   "nbconvert_exporter": "python",
   "pygments_lexer": "ipython3",
   "version": "3.6.5"
  }
 },
 "nbformat": 4,
 "nbformat_minor": 2
}
